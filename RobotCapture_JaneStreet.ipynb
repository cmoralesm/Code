{
 "cells": [
  {
   "cell_type": "markdown",
   "id": "51a28a58-c2bf-49ce-897f-3ce46a1b21db",
   "metadata": {},
   "source": [
    "# Robot Capture-the-Flag: Solution"
   ]
  },
  {
   "cell_type": "markdown",
   "id": "9790514f-0339-4ce8-81a0-2db9896ed573",
   "metadata": {},
   "source": [
    "https://www.janestreet.com/puzzles/current-puzzle/"
   ]
  },
  {
   "attachments": {},
   "cell_type": "markdown",
   "id": "5f47da3e-0aa8-4c6b-bdba-d0d6135e5c89",
   "metadata": {},
   "source": [
    "Two robots, Aaron and Erin, have made it to this year’s final! Initially they are situated at the center of a unit circle. A flag is placed somewhere inside the circle, at a location chosen uniformly at random. Once the flag is placed, Aaron is able to deduce its distance to the flag, and Erin is only able to deduce its direction to the flag. (Equivalently: if (r, θ) are the polar coordinates of the flag’s location, Aaron is told r and Erin is told θ.)\n",
    "\n",
    "Both robots are allowed to make a single move after the flag is placed, if they wish. Any move they make is without knowledge of what the other robot is doing. (And they may not move outside the circle.)\n",
    "\n",
    "Whichever robot is closer to the flag after these moves captures the flag and is declared the winner!\n",
    "\n",
    "During the preliminaries it was discovered that Erin is programmed to play a fixed distance along the detected angle θ. Assuming otherwise optimal play by both robots, can you determine the probability that Aaron will win? (Please express your answer to 10 decimal places.)"
   ]
  },
  {
   "cell_type": "markdown",
   "id": "0392245b-60a0-4f14-abcf-b4f234bc4487",
   "metadata": {},
   "source": [
    "-------------------------------------------------"
   ]
  },
  {
   "cell_type": "markdown",
   "id": "7c0d524d-fb36-452e-889c-c6c50d413081",
   "metadata": {},
   "source": [
    "That means that Aaron will only win if the distance from the robot to the flag is smaller, so that means...\n",
    "\n",
    "$$\n",
    "\\sqrt{-2 \\cdot r^2 \\cdot \\cos(\\text{{diff\\_theta}}) + 2 \\cdot r^2} < |r - r_{\\text{{eric}}}|\n",
    "$$\n",
    "\n",
    "\n"
   ]
  },
  {
   "cell_type": "code",
   "execution_count": 3,
   "id": "16d7d742-8b13-4b8a-bb85-19664fbff6cd",
   "metadata": {},
   "outputs": [],
   "source": [
    "import numpy as np\n",
    "import math\n",
    "import pandas as pd"
   ]
  },
  {
   "cell_type": "code",
   "execution_count": 21,
   "id": "5b4b1320-ca10-4251-b659-11d745b291de",
   "metadata": {},
   "outputs": [],
   "source": [
    "def robotcapture(num_trials):\n",
    "    list_results = []\n",
    "    for i in range(num_trials):\n",
    "        \n",
    "        r = np.random.uniform(0,1,1)\n",
    "        theta = np.random.uniform(0,2*math.pi,1)\n",
    "\n",
    "        # Eric knows theta: tries to guess r\n",
    "        r_eric = np.random.uniform(0,1,1)\n",
    "        \n",
    "        # Aaron knows r: tries to guess theta\n",
    "        theta_aaron = np.random.uniform(0,2*math.pi,1)\n",
    "\n",
    "        dif_theta = abs(theta_aaron-theta)\n",
    "\n",
    "        #Aaron wins if ...\n",
    "        if dif_theta>math.pi:\n",
    "           # dif_theta = 2*math.pi - dif_theta\n",
    "            if np.sqrt(-2*(r**2)*np.cos(dif_theta)+2*(r**2)) < abs(r -r_eric):\n",
    "                list_results = np.append(list_results, 1) #Aaron wins\n",
    "            else :\n",
    "                list_results = np.append(list_results, 0) #Eric wins\n",
    "        else:\n",
    "            if np.sqrt(-2*(r**2)*np.cos(dif_theta)+2*(r**2)) < abs(r -r_eric):\n",
    "                list_results = np.append(list_results, 1) #Aaron wins\n",
    "            else :\n",
    "                list_results = np.append(list_results, 0) #Eric wins\n",
    "\n",
    "    sum_aaron_wins = list_results.sum()\n",
    "    probability_winning = 100*sum_aaron_wins / num_trials\n",
    "  #  probability_winning = round(probability_winning,10)\n",
    "\n",
    "    print(\"Number of wins: \", sum_aaron_wins)\n",
    "    print(\"Probability of winning: \", probability_winning)\n",
    "    return(list_results)"
   ]
  },
  {
   "cell_type": "code",
   "execution_count": 22,
   "id": "973f981f-f785-47bb-b3cf-fb4a5c580825",
   "metadata": {},
   "outputs": [
    {
     "name": "stdout",
     "output_type": "stream",
     "text": [
      "Number of wins:  80608.0\n",
      "Probability of winning:  32.2432\n"
     ]
    }
   ],
   "source": [
    "result = robotcapture(250000)"
   ]
  },
  {
   "cell_type": "code",
   "execution_count": null,
   "id": "3996bbc3-e1bd-4b77-8c5d-03ba87a887ee",
   "metadata": {},
   "outputs": [],
   "source": []
  },
  {
   "cell_type": "code",
   "execution_count": null,
   "id": "3fe2cf03-fb61-45ac-aa91-493fa725c11d",
   "metadata": {},
   "outputs": [],
   "source": []
  }
 ],
 "metadata": {
  "kernelspec": {
   "display_name": "Python 3 (Spyder)",
   "language": "python3",
   "name": "python3"
  },
  "language_info": {
   "codemirror_mode": {
    "name": "ipython",
    "version": 3
   },
   "file_extension": ".py",
   "mimetype": "text/x-python",
   "name": "python",
   "nbconvert_exporter": "python",
   "pygments_lexer": "ipython3",
   "version": "3.9.18"
  }
 },
 "nbformat": 4,
 "nbformat_minor": 5
}
